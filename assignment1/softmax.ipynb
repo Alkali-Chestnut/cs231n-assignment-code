{
 "cells": [
  {
   "cell_type": "code",
   "execution_count": null,
   "id": "149d5b7e",
   "metadata": {},
   "outputs": [],
   "source": [
    "# This mounts your Google Drive to the Colab VM.\n",
    "from google.colab import drive\n",
    "drive.mount('/content/drive')\n",
    "\n",
    "# TODO: Enter the foldername in your Drive where you have saved the unzipped\n",
    "# assignment folder, e.g. 'cs231n/assignments/assignment1/'\n",
    "FOLDERNAME = None\n",
    "assert FOLDERNAME is not None, \"[!] Enter the foldername.\"\n",
    "\n",
    "# Now that we've mounted your Drive, this ensures that\n",
    "# the Python interpreter of the Colab VM can load\n",
    "# python files from within it.\n",
    "import sys\n",
    "sys.path.append('/content/drive/My Drive/{}'.format(FOLDERNAME))\n",
    "\n",
    "# This downloads the CIFAR-10 dataset to your Drive\n",
    "# if it doesn't already exist.\n",
    "%cd /content/drive/My\\ Drive/$FOLDERNAME/cs231n/datasets/\n",
    "!bash get_datasets.sh\n",
    "%cd /content/drive/My\\ Drive/$FOLDERNAME"
   ]
  },
  {
   "cell_type": "markdown",
   "id": "5fdfc27e",
   "metadata": {
    "tags": [
     "pdf-title"
    ]
   },
   "source": [
    "# Softmax exercise\n",
    "\n",
    "*Complete and hand in this completed worksheet (including its outputs and any supporting code outside of the worksheet) with your assignment submission. For more details see the [assignments page](http://vision.stanford.edu/teaching/cs231n/assignments.html) on the course website.*\n",
    "\n",
    "This exercise is analogous to the SVM exercise. You will:\n",
    "\n",
    "- implement a fully-vectorized **loss function** for the Softmax classifier\n",
    "- implement the fully-vectorized expression for its **analytic gradient**\n",
    "- **check your implementation** with numerical gradient\n",
    "- use a validation set to **tune the learning rate and regularization** strength\n",
    "- **optimize** the loss function with **SGD**\n",
    "- **visualize** the final learned weights\n"
   ]
  },
  {
   "cell_type": "code",
   "execution_count": 1,
   "id": "ca6cf2d4",
   "metadata": {
    "tags": [
     "pdf-ignore"
    ]
   },
   "outputs": [],
   "source": [
    "import random\n",
    "import numpy as np\n",
    "from cs231n.data_utils import load_CIFAR10\n",
    "import matplotlib.pyplot as plt\n",
    "\n",
    "%matplotlib inline\n",
    "plt.rcParams['figure.figsize'] = (10.0, 8.0) # set default size of plots\n",
    "plt.rcParams['image.interpolation'] = 'nearest'\n",
    "plt.rcParams['image.cmap'] = 'gray'\n",
    "\n",
    "# for auto-reloading extenrnal modules\n",
    "# see http://stackoverflow.com/questions/1907993/autoreload-of-modules-in-ipython\n",
    "%load_ext autoreload\n",
    "%autoreload 2"
   ]
  },
  {
   "cell_type": "code",
   "execution_count": 2,
   "id": "9e9bbbbe",
   "metadata": {
    "tags": [
     "pdf-ignore"
    ]
   },
   "outputs": [
    {
     "name": "stdout",
     "output_type": "stream",
     "text": [
      "Train data shape:  (49000, 3073)\n",
      "Train labels shape:  (49000,)\n",
      "Validation data shape:  (1000, 3073)\n",
      "Validation labels shape:  (1000,)\n",
      "Test data shape:  (1000, 3073)\n",
      "Test labels shape:  (1000,)\n",
      "dev data shape:  (500, 3073)\n",
      "dev labels shape:  (500,)\n"
     ]
    }
   ],
   "source": [
    "def get_CIFAR10_data(num_training=49000, num_validation=1000, num_test=1000, num_dev=500):\n",
    "    \"\"\"\n",
    "    Load the CIFAR-10 dataset from disk and perform preprocessing to prepare\n",
    "    it for the linear classifier. These are the same steps as we used for the\n",
    "    SVM, but condensed to a single function.  \n",
    "    \"\"\"\n",
    "    # Load the raw CIFAR-10 data\n",
    "    cifar10_dir = 'cs231n/datasets/cifar-10-batches-py'\n",
    "    \n",
    "    # Cleaning up variables to prevent loading data multiple times (which may cause memory issue)\n",
    "    try:\n",
    "       del X_train, y_train\n",
    "       del X_test, y_test\n",
    "       print('Clear previously loaded data.')\n",
    "    except:\n",
    "       pass\n",
    "\n",
    "    X_train, y_train, X_test, y_test = load_CIFAR10(cifar10_dir)\n",
    "    \n",
    "    # subsample the data\n",
    "    mask = list(range(num_training, num_training + num_validation))\n",
    "    X_val = X_train[mask]\n",
    "    y_val = y_train[mask]\n",
    "    mask = list(range(num_training))\n",
    "    X_train = X_train[mask]\n",
    "    y_train = y_train[mask]\n",
    "    mask = list(range(num_test))\n",
    "    X_test = X_test[mask]\n",
    "    y_test = y_test[mask]\n",
    "    mask = np.random.choice(num_training, num_dev, replace=False)\n",
    "    X_dev = X_train[mask]\n",
    "    y_dev = y_train[mask]\n",
    "    \n",
    "    # Preprocessing: reshape the image data into rows\n",
    "    X_train = np.reshape(X_train, (X_train.shape[0], -1))\n",
    "    X_val = np.reshape(X_val, (X_val.shape[0], -1))\n",
    "    X_test = np.reshape(X_test, (X_test.shape[0], -1))\n",
    "    X_dev = np.reshape(X_dev, (X_dev.shape[0], -1))\n",
    "    \n",
    "    # Normalize the data: subtract the mean image\n",
    "    mean_image = np.mean(X_train, axis = 0)\n",
    "    X_train -= mean_image\n",
    "    X_val -= mean_image\n",
    "    X_test -= mean_image\n",
    "    X_dev -= mean_image\n",
    "    \n",
    "    # add bias dimension and transform into columns\n",
    "    X_train = np.hstack([X_train, np.ones((X_train.shape[0], 1))])\n",
    "    X_val = np.hstack([X_val, np.ones((X_val.shape[0], 1))])\n",
    "    X_test = np.hstack([X_test, np.ones((X_test.shape[0], 1))])\n",
    "    X_dev = np.hstack([X_dev, np.ones((X_dev.shape[0], 1))])\n",
    "    \n",
    "    return X_train, y_train, X_val, y_val, X_test, y_test, X_dev, y_dev\n",
    "\n",
    "\n",
    "# Invoke the above function to get our data.\n",
    "X_train, y_train, X_val, y_val, X_test, y_test, X_dev, y_dev = get_CIFAR10_data()\n",
    "print('Train data shape: ', X_train.shape)\n",
    "print('Train labels shape: ', y_train.shape)\n",
    "print('Validation data shape: ', X_val.shape)\n",
    "print('Validation labels shape: ', y_val.shape)\n",
    "print('Test data shape: ', X_test.shape)\n",
    "print('Test labels shape: ', y_test.shape)\n",
    "print('dev data shape: ', X_dev.shape)\n",
    "print('dev labels shape: ', y_dev.shape)"
   ]
  },
  {
   "cell_type": "markdown",
   "id": "d4c3fb04",
   "metadata": {},
   "source": [
    "## Softmax Classifier\n",
    "\n",
    "Your code for this section will all be written inside `cs231n/classifiers/softmax.py`.\n"
   ]
  },
  {
   "cell_type": "code",
   "execution_count": 22,
   "id": "25f2e5e1",
   "metadata": {
    "scrolled": true
   },
   "outputs": [
    {
     "name": "stdout",
     "output_type": "stream",
     "text": [
      "loss: 2.391129\n",
      "sanity check: 2.302585\n"
     ]
    }
   ],
   "source": [
    "# First implement the naive softmax loss function with nested loops.\n",
    "# Open the file cs231n/classifiers/softmax.py and implement the\n",
    "# softmax_loss_naive function.\n",
    "\n",
    "from cs231n.classifiers.softmax import softmax_loss_naive\n",
    "import time\n",
    "\n",
    "# Generate a random softmax weight matrix and use it to compute the loss.\n",
    "W = np.random.randn(3073, 10) * 0.0001\n",
    "loss, grad = softmax_loss_naive(W, X_dev, y_dev, 0.0)\n",
    "\n",
    "# As a rough sanity check, our loss should be something close to -log(0.1).\n",
    "print('loss: %f' % loss)\n",
    "print('sanity check: %f' % (-np.log(0.1)))"
   ]
  },
  {
   "cell_type": "markdown",
   "id": "15ebc638",
   "metadata": {
    "tags": [
     "pdf-inline"
    ]
   },
   "source": [
    "**Inline Question 1**\n",
    "\n",
    "Why do we expect our loss to be close to -log(0.1)? Explain briefly.**\n",
    "\n",
    "$\\color{blue}{\\textit Your Answer:}$ *Fill this in* \n",
    "\n"
   ]
  },
  {
   "cell_type": "code",
   "execution_count": null,
   "id": "cc05ed23",
   "metadata": {},
   "outputs": [],
   "source": [
    "# W是随机的且值比较小，导致S矩阵每个元素都比较小且几乎相同，因此每张图片的loss约为-log(1/c)，均值也如此\n",
    "# C=10,loss约为-log(0.1)"
   ]
  },
  {
   "cell_type": "code",
   "execution_count": 23,
   "id": "a8cb3eb1",
   "metadata": {},
   "outputs": [
    {
     "name": "stdout",
     "output_type": "stream",
     "text": [
      "numerical: 1.385454 analytic: 1.385454, relative error: 2.788278e-08\n",
      "numerical: 2.377716 analytic: 2.377716, relative error: 2.607370e-08\n",
      "numerical: -5.468701 analytic: -5.468701, relative error: 8.003715e-09\n",
      "numerical: 1.964873 analytic: 1.964873, relative error: 3.509833e-08\n",
      "numerical: 0.378454 analytic: 0.378454, relative error: 1.003631e-07\n",
      "numerical: 1.491538 analytic: 1.491538, relative error: 8.176030e-09\n",
      "numerical: 3.939891 analytic: 3.939891, relative error: 1.638866e-08\n",
      "numerical: -0.451282 analytic: -0.451282, relative error: 4.132667e-08\n",
      "numerical: 0.316812 analytic: 0.316812, relative error: 5.407257e-08\n",
      "numerical: 1.647677 analytic: 1.647677, relative error: 1.227374e-08\n",
      "numerical: -2.593179 analytic: -2.593179, relative error: 1.355086e-08\n",
      "numerical: -1.163355 analytic: -1.163355, relative error: 8.244424e-09\n",
      "numerical: 1.911129 analytic: 1.911129, relative error: 3.426632e-09\n",
      "numerical: -1.533174 analytic: -1.533174, relative error: 3.348447e-08\n",
      "numerical: -1.831632 analytic: -1.831632, relative error: 1.049930e-08\n",
      "numerical: -0.298128 analytic: -0.298128, relative error: 4.188973e-08\n",
      "numerical: 0.423799 analytic: 0.423799, relative error: 1.146351e-08\n",
      "numerical: -1.288528 analytic: -1.288528, relative error: 1.070145e-09\n",
      "numerical: -0.074902 analytic: -0.074902, relative error: 2.154781e-07\n",
      "numerical: 0.979816 analytic: 0.979816, relative error: 2.089992e-08\n"
     ]
    }
   ],
   "source": [
    "# Complete the implementation of softmax_loss_naive and implement a (naive)\n",
    "# version of the gradient that uses nested loops.\n",
    "loss, grad = softmax_loss_naive(W, X_dev, y_dev, 0.0)\n",
    "\n",
    "# As we did for the SVM, use numeric gradient checking as a debugging tool.\n",
    "# The numeric gradient should be close to the analytic gradient.\n",
    "from cs231n.gradient_check import grad_check_sparse\n",
    "f = lambda w: softmax_loss_naive(w, X_dev, y_dev, 0.0)[0]\n",
    "grad_numerical = grad_check_sparse(f, W, grad, 10)\n",
    "\n",
    "# similar to SVM case, do another gradient check with regularization\n",
    "loss, grad = softmax_loss_naive(W, X_dev, y_dev, 5e1)\n",
    "f = lambda w: softmax_loss_naive(w, X_dev, y_dev, 5e1)[0]\n",
    "grad_numerical = grad_check_sparse(f, W, grad, 10)"
   ]
  },
  {
   "cell_type": "code",
   "execution_count": 32,
   "id": "4a4a81d4",
   "metadata": {
    "scrolled": false
   },
   "outputs": [
    {
     "name": "stdout",
     "output_type": "stream",
     "text": [
      "naive loss: 2.391129e+00 computed in 0.118000s\n",
      "vectorized loss: 2.391129e+00 computed in 0.003173s\n",
      "Loss difference: 0.000000\n",
      "Gradient difference: 0.000000\n"
     ]
    }
   ],
   "source": [
    "# Now that we have a naive implementation of the softmax loss function and its gradient,\n",
    "# implement a vectorized version in softmax_loss_vectorized.\n",
    "# The two versions should compute the same results, but the vectorized version should be\n",
    "# much faster.\n",
    "tic = time.time()\n",
    "loss_naive, grad_naive = softmax_loss_naive(W, X_dev, y_dev, 0.000005)\n",
    "toc = time.time()\n",
    "print('naive loss: %e computed in %fs' % (loss_naive, toc - tic))\n",
    "\n",
    "from cs231n.classifiers.softmax import softmax_loss_vectorized\n",
    "tic = time.time()\n",
    "loss_vectorized, grad_vectorized = softmax_loss_vectorized(W, X_dev, y_dev, 0.000005)\n",
    "toc = time.time()\n",
    "print('vectorized loss: %e computed in %fs' % (loss_vectorized, toc - tic))\n",
    "\n",
    "# As we did for the SVM, we use the Frobenius norm to compare the two versions\n",
    "# of the gradient.\n",
    "grad_difference = np.linalg.norm(grad_naive - grad_vectorized, ord='fro')\n",
    "print('Loss difference: %f' % np.abs(loss_naive - loss_vectorized))\n",
    "print('Gradient difference: %f' % grad_difference)"
   ]
  },
  {
   "cell_type": "code",
   "execution_count": 35,
   "id": "a3453536",
   "metadata": {
    "tags": [
     "code"
    ],
    "test": "tuning"
   },
   "outputs": [
    {
     "name": "stdout",
     "output_type": "stream",
     "text": [
      "lr 1.000000e-08 reg 1.000000e+04 train accuracy: 0.175224 val accuracy: 0.180000\n",
      "lr 1.000000e-08 reg 1.500000e+04 train accuracy: 0.177959 val accuracy: 0.176000\n",
      "lr 1.000000e-08 reg 2.000000e+04 train accuracy: 0.190673 val accuracy: 0.202000\n",
      "lr 1.000000e-08 reg 5.000000e+04 train accuracy: 0.248469 val accuracy: 0.265000\n",
      "lr 1.000000e-08 reg 1.000000e+05 train accuracy: 0.284469 val accuracy: 0.306000\n",
      "lr 2.500000e-08 reg 1.000000e+04 train accuracy: 0.247980 val accuracy: 0.236000\n",
      "lr 2.500000e-08 reg 1.500000e+04 train accuracy: 0.278633 val accuracy: 0.282000\n",
      "lr 2.500000e-08 reg 2.000000e+04 train accuracy: 0.291224 val accuracy: 0.307000\n",
      "lr 2.500000e-08 reg 5.000000e+04 train accuracy: 0.304224 val accuracy: 0.324000\n",
      "lr 2.500000e-08 reg 1.000000e+05 train accuracy: 0.288020 val accuracy: 0.299000\n",
      "lr 1.000000e-07 reg 1.000000e+04 train accuracy: 0.356327 val accuracy: 0.373000\n",
      "lr 1.000000e-07 reg 1.500000e+04 train accuracy: 0.345735 val accuracy: 0.364000\n",
      "lr 1.000000e-07 reg 2.000000e+04 train accuracy: 0.335408 val accuracy: 0.351000\n",
      "lr 1.000000e-07 reg 5.000000e+04 train accuracy: 0.297959 val accuracy: 0.309000\n",
      "lr 1.000000e-07 reg 1.000000e+05 train accuracy: 0.295918 val accuracy: 0.308000\n",
      "lr 2.000000e-07 reg 1.000000e+04 train accuracy: 0.350959 val accuracy: 0.366000\n",
      "lr 2.000000e-07 reg 1.500000e+04 train accuracy: 0.347041 val accuracy: 0.348000\n",
      "lr 2.000000e-07 reg 2.000000e+04 train accuracy: 0.339551 val accuracy: 0.348000\n",
      "lr 2.000000e-07 reg 5.000000e+04 train accuracy: 0.313000 val accuracy: 0.326000\n",
      "lr 2.000000e-07 reg 1.000000e+05 train accuracy: 0.288388 val accuracy: 0.295000\n",
      "lr 5.000000e-07 reg 1.000000e+04 train accuracy: 0.354571 val accuracy: 0.359000\n",
      "lr 5.000000e-07 reg 1.500000e+04 train accuracy: 0.339898 val accuracy: 0.350000\n",
      "lr 5.000000e-07 reg 2.000000e+04 train accuracy: 0.330939 val accuracy: 0.350000\n",
      "lr 5.000000e-07 reg 5.000000e+04 train accuracy: 0.314388 val accuracy: 0.318000\n",
      "lr 5.000000e-07 reg 1.000000e+05 train accuracy: 0.272714 val accuracy: 0.278000\n",
      "lr 1.000000e-06 reg 1.000000e+04 train accuracy: 0.349490 val accuracy: 0.362000\n",
      "lr 1.000000e-06 reg 1.500000e+04 train accuracy: 0.341204 val accuracy: 0.337000\n",
      "lr 1.000000e-06 reg 2.000000e+04 train accuracy: 0.331469 val accuracy: 0.342000\n",
      "lr 1.000000e-06 reg 5.000000e+04 train accuracy: 0.301592 val accuracy: 0.313000\n",
      "lr 1.000000e-06 reg 1.000000e+05 train accuracy: 0.281592 val accuracy: 0.283000\n",
      "best validation accuracy achieved during cross-validation: 0.373000\n"
     ]
    }
   ],
   "source": [
    "# Use the validation set to tune hyperparameters (regularization strength and\n",
    "# learning rate). You should experiment with different ranges for the learning\n",
    "# rates and regularization strengths; if you are careful you should be able to\n",
    "# get a classification accuracy of over 0.35 on the validation set.\n",
    "\n",
    "from cs231n.classifiers import Softmax\n",
    "results = {}\n",
    "best_val = -1\n",
    "best_softmax = None\n",
    "\n",
    "\n",
    "\"\"\"\n",
    "X_val y_val \n",
    "\n",
    "X_train y_train \n",
    "\n",
    "X_test y_test \n",
    "   \n",
    "X_dev y_dev \n",
    "\n",
    "\"\"\"\n",
    "\n",
    "################################################################################\n",
    "# TODO:                                                                        #\n",
    "# Use the validation set to set the learning rate and regularization strength. #\n",
    "# This should be identical to the validation that you did for the SVM; save    #\n",
    "# the best trained softmax classifer in best_softmax.                          #\n",
    "################################################################################\n",
    "\n",
    "# Provided as a reference. You may or may not want to change these hyperparameters\n",
    "learning_rates = [1e-7, 2e-7, 5e-7, 1e-6,2.5e-8, 1e-8]\n",
    "regularization_strengths = [1e4, 1.5e4, 2e4, 5e4, 1e5]\n",
    "\n",
    "\n",
    "\n",
    "\"\"\"\n",
    " 为什么“大 lr + 小 reg”或“小 lr + 大 reg”都可能是合理的？\n",
    " \n",
    "1. 学习率 (lr) 控制的是 更新的步长\n",
    "\n",
    "如果 lr 太小：训练慢，容易陷入局部最优，模型学不动。\n",
    "\n",
    "如果 lr 太大：更新太猛，容易震荡甚至发散。\n",
    "\n",
    "所以 lr 和 reg 必须联合调节，不能单独看。\n",
    "\n",
    "2. 正则化强度 (reg) 控制的是 模型复杂度惩罚\n",
    "\n",
    "如果 reg 太小：模型容易过拟合，训练好但验证差。\n",
    "\n",
    "如果 reg 太大：模型过于保守，欠拟合，训练验证都差。\n",
    "\n",
    "所以 reg 的大小必须和 lr 匹配，才能找到“刚好学到但不学坏”的平衡点。\n",
    "\"\"\"\n",
    "\n",
    "\n",
    "\"\"\"\n",
    "或者可以尝试\n",
    "np.random.randint(1,100,10)*1e-8\n",
    "np.random.randint(1,100,10)*1e3\n",
    "\n",
    "\"\"\"\n",
    "# *****START OF YOUR CODE (DO NOT DELETE/MODIFY THIS LINE)*****\n",
    "\n",
    "for lr in learning_rates:\n",
    "    for reg in regularization_strengths:\n",
    "        softmax=Softmax()\n",
    "        softmax.train(X_train,y_train,learning_rate=lr,reg=reg,\n",
    "                      num_iters=2000,verbose=False)\n",
    "        y_train_pred = softmax.predict(X_train)\n",
    "        train_accuracy=np.mean(y_train == y_train_pred)\n",
    "        y_val_pred = softmax.predict(X_val)\n",
    "        val_accuracy=np.mean(y_val == y_val_pred)\n",
    "        results[(lr,reg)]=(train_accuracy,val_accuracy)\n",
    "        if val_accuracy>best_val:\n",
    "            best_val=val_accuracy\n",
    "            best_softmax=softmax\n",
    "\n",
    "pass\n",
    "\n",
    "# *****END OF YOUR CODE (DO NOT DELETE/MODIFY THIS LINE)*****\n",
    "    \n",
    "# Print out results.\n",
    "for lr, reg in sorted(results):\n",
    "    train_accuracy, val_accuracy = results[(lr, reg)]\n",
    "    print('lr %e reg %e train accuracy: %f val accuracy: %f' % (\n",
    "                lr, reg, train_accuracy, val_accuracy))\n",
    "    \n",
    "print('best validation accuracy achieved during cross-validation: %f' % best_val)"
   ]
  },
  {
   "cell_type": "code",
   "execution_count": 36,
   "id": "8a1f9db3",
   "metadata": {
    "test": "test"
   },
   "outputs": [
    {
     "name": "stdout",
     "output_type": "stream",
     "text": [
      "softmax on raw pixels final test set accuracy: 0.360000\n"
     ]
    }
   ],
   "source": [
    "# evaluate on test set\n",
    "# Evaluate the best softmax on test set\n",
    "y_test_pred = best_softmax.predict(X_test)\n",
    "test_accuracy = np.mean(y_test == y_test_pred)\n",
    "print('softmax on raw pixels final test set accuracy: %f' % (test_accuracy, ))"
   ]
  },
  {
   "cell_type": "markdown",
   "id": "86b9b65c",
   "metadata": {
    "tags": [
     "pdf-inline"
    ]
   },
   "source": [
    "**Inline Question 2** - *True or False*\n",
    "\n",
    "Suppose the overall training loss is defined as the sum of the per-datapoint loss over all training examples. It is possible to add a new datapoint to a training set that would leave the SVM loss unchanged, but this is not the case with the Softmax classifier loss.\n",
    "\n",
    "$\\color{blue}{\\textit Your Answer:}$\n",
    "\n",
    "\n",
    "$\\color{blue}{\\textit Your Explanation:}$\n",
    "\n"
   ]
  },
  {
   "cell_type": "code",
   "execution_count": null,
   "id": "9cafb4fe",
   "metadata": {},
   "outputs": [],
   "source": [
    "# Ture 因为svm的损失可能是0，softmax的损失只能接近0 （-log 1）"
   ]
  },
  {
   "cell_type": "code",
   "execution_count": 37,
   "id": "009f08b9",
   "metadata": {},
   "outputs": [
    {
     "data": {
      "image/png": "[encoded data removed]",
      "text/plain": [
       "<Figure size 1000x800 with 10 Axes>"
      ]
     },
     "metadata": {},
     "output_type": "display_data"
    }
   ],
   "source": [
    "# Visualize the learned weights for each class\n",
    "w = best_softmax.W[:-1,:] # strip out the bias\n",
    "w = w.reshape(32, 32, 3, 10)\n",
    "\n",
    "w_min, w_max = np.min(w), np.max(w)\n",
    "\n",
    "classes = ['plane', 'car', 'bird', 'cat', 'deer', 'dog', 'frog', 'horse', 'ship', 'truck']\n",
    "for i in range(10):\n",
    "    plt.subplot(2, 5, i + 1)\n",
    "    \n",
    "    # Rescale the weights to be between 0 and 255\n",
    "    wimg = 255.0 * (w[:, :, :, i].squeeze() - w_min) / (w_max - w_min)\n",
    "    plt.imshow(wimg.astype('uint8'))\n",
    "    plt.axis('off')\n",
    "    plt.title(classes[i])"
   ]
  }
 ],
 "metadata": {
  "kernelspec": {
   "display_name": "Python 3 (ipykernel)",
   "language": "python",
   "name": "python3"
  },
  "language_info": {
   "codemirror_mode": {
    "name": "ipython",
    "version": 3
   },
   "file_extension": ".py",
   "mimetype": "text/x-python",
   "name": "python",
   "nbconvert_exporter": "python",
   "pygments_lexer": "ipython3",
   "version": "3.9.13"
  }
 },
 "nbformat": 4,
 "nbformat_minor": 5
}
